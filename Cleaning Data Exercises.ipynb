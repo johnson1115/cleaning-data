{
 "cells": [
  {
   "cell_type": "markdown",
   "id": "1c5ab710",
   "metadata": {},
   "source": [
    "# Cleaning Data Exercises\n",
    "\n",
    "For the exercises, you will be cleaning data in your chosen data set. [Towards Data Science](https://towardsdatascience.com/data-cleaning-in-python-the-ultimate-guide-2020-c63b88bf0a0d) outlines the steps we should take to clean data using a different data set from Kaggle. While you should use this article as a reference, make sure not to copy paste as the two data sets are very different!\n",
    "\n",
    "To start cleaning data, we first need to create a dataframe from the CSV and print out any relevant info to make sure our dataframe is ready to go."
   ]
  },
  {
   "cell_type": "code",
   "execution_count": 31,
   "id": "da3513e0",
   "metadata": {},
   "outputs": [],
   "source": [
    "# Import pandas and any other libraries you need here. HINT: Check out the article to see what they imported to get started!\n",
    "import pandas as pd\n",
    "import numpy as np\n",
    "import seaborn as sns\n",
    "\n",
    "import matplotlib.pyplot as plt\n",
    "import matplotlib.mlab as mlab\n",
    "import matplotlib\n",
    "plt.style.use('ggplot')\n",
    "from matplotlib.pyplot import figure\n",
    "\n",
    "%matplotlib inline \n",
    "matplotlib.rcParams['figure.figsize'] = (12,8)\n",
    "\n",
    "pd.options.mode.chained_assignment = None \n",
    "\n",
    "# Create a new dataframe from your CSV\n",
    "df = pd.read_csv(r\"C:\\Users\\johns\\OneDrive\\Desktop\\Womens+\\cleaning-data\\Rat_Sightings.csv\")"
   ]
  },
  {
   "cell_type": "code",
   "execution_count": 32,
   "id": "045387eb",
   "metadata": {},
   "outputs": [
    {
     "name": "stdout",
     "output_type": "stream",
     "text": [
      "(101914, 52)\n",
      "Unique Key                          int64\n",
      "Created Date                       object\n",
      "Closed Date                        object\n",
      "Agency                             object\n",
      "Agency Name                        object\n",
      "Complaint Type                     object\n",
      "Descriptor                         object\n",
      "Location Type                      object\n",
      "Incident Zip                      float64\n",
      "Incident Address                   object\n",
      "Street Name                        object\n",
      "Cross Street 1                     object\n",
      "Cross Street 2                     object\n",
      "Intersection Street 1              object\n",
      "Intersection Street 2              object\n",
      "Address Type                       object\n",
      "City                               object\n",
      "Landmark                           object\n",
      "Facility Type                     float64\n",
      "Status                             object\n",
      "Due Date                           object\n",
      "Resolution Action Updated Date     object\n",
      "Community Board                    object\n",
      "Borough                            object\n",
      "X Coordinate (State Plane)        float64\n",
      "Y Coordinate (State Plane)        float64\n",
      "Park Facility Name                 object\n",
      "Park Borough                       object\n",
      "School Name                        object\n",
      "School Number                      object\n",
      "School Region                      object\n",
      "School Code                        object\n",
      "School Phone Number                object\n",
      "School Address                     object\n",
      "School City                        object\n",
      "School State                       object\n",
      "School Zip                         object\n",
      "School Not Found                   object\n",
      "School or Citywide Complaint      float64\n",
      "Vehicle Type                      float64\n",
      "Taxi Company Borough              float64\n",
      "Taxi Pick Up Location             float64\n",
      "Bridge Highway Name               float64\n",
      "Bridge Highway Direction          float64\n",
      "Road Ramp                         float64\n",
      "Bridge Highway Segment            float64\n",
      "Garage Lot Name                   float64\n",
      "Ferry Direction                   float64\n",
      "Ferry Terminal Name               float64\n",
      "Latitude                          float64\n",
      "Longitude                         float64\n",
      "Location                           object\n",
      "dtype: object\n",
      "Index(['Unique Key', 'Created Date', 'Closed Date', 'Agency', 'Agency Name',\n",
      "       'Complaint Type', 'Descriptor', 'Location Type', 'Incident Zip',\n",
      "       'Incident Address', 'Street Name', 'Cross Street 1', 'Cross Street 2',\n",
      "       'Intersection Street 1', 'Intersection Street 2', 'Address Type',\n",
      "       'City', 'Landmark', 'Facility Type', 'Status', 'Due Date',\n",
      "       'Resolution Action Updated Date', 'Community Board', 'Borough',\n",
      "       'X Coordinate (State Plane)', 'Y Coordinate (State Plane)',\n",
      "       'Park Facility Name', 'Park Borough', 'School Name', 'School Number',\n",
      "       'School Region', 'School Code', 'School Phone Number', 'School Address',\n",
      "       'School City', 'School State', 'School Zip', 'School Not Found',\n",
      "       'School or Citywide Complaint', 'Vehicle Type', 'Taxi Company Borough',\n",
      "       'Taxi Pick Up Location', 'Bridge Highway Name',\n",
      "       'Bridge Highway Direction', 'Road Ramp', 'Bridge Highway Segment',\n",
      "       'Garage Lot Name', 'Ferry Direction', 'Ferry Terminal Name', 'Latitude',\n",
      "       'Longitude', 'Location'],\n",
      "      dtype='object')\n",
      "['Unique Key' 'Incident Zip' 'Facility Type' 'X Coordinate (State Plane)'\n",
      " 'Y Coordinate (State Plane)' 'School or Citywide Complaint'\n",
      " 'Vehicle Type' 'Taxi Company Borough' 'Taxi Pick Up Location'\n",
      " 'Bridge Highway Name' 'Bridge Highway Direction' 'Road Ramp'\n",
      " 'Bridge Highway Segment' 'Garage Lot Name' 'Ferry Direction'\n",
      " 'Ferry Terminal Name' 'Latitude' 'Longitude']\n",
      "['Created Date' 'Closed Date' 'Agency' 'Agency Name' 'Complaint Type'\n",
      " 'Descriptor' 'Location Type' 'Incident Address' 'Street Name'\n",
      " 'Cross Street 1' 'Cross Street 2' 'Intersection Street 1'\n",
      " 'Intersection Street 2' 'Address Type' 'City' 'Landmark' 'Status'\n",
      " 'Due Date' 'Resolution Action Updated Date' 'Community Board' 'Borough'\n",
      " 'Park Facility Name' 'Park Borough' 'School Name' 'School Number'\n",
      " 'School Region' 'School Code' 'School Phone Number' 'School Address'\n",
      " 'School City' 'School State' 'School Zip' 'School Not Found' 'Location']\n"
     ]
    }
   ],
   "source": [
    "# Print out any information you need to understand your dataframe\n",
    "print(df.shape)\n",
    "print(df.dtypes)\n",
    "print(df.columns)\n",
    "\n",
    "# select numeric columns\n",
    "df_numeric = df.select_dtypes(include=[np.number])\n",
    "numeric_cols = df_numeric.columns.values\n",
    "print(numeric_cols)\n",
    "\n",
    "# select non-numeric columns\n",
    "df_non_numeric = df.select_dtypes(exclude=[np.number])\n",
    "non_numeric_cols = df_non_numeric.columns.values\n",
    "print(non_numeric_cols)"
   ]
  },
  {
   "cell_type": "markdown",
   "id": "81717993",
   "metadata": {},
   "source": [
    "Now you have a dataframe set up, you are ready to dive in and start cleaning!"
   ]
  },
  {
   "cell_type": "markdown",
   "id": "303aee35",
   "metadata": {},
   "source": [
    "## Missing Data\n",
    "\n",
    "In the Towards Data Science article, they list 3 techniques for detecting any missing data frame. Try all three before deciding on a way to solve any missing data issues."
   ]
  },
  {
   "cell_type": "code",
   "execution_count": 33,
   "id": "68fd548c",
   "metadata": {},
   "outputs": [
    {
     "data": {
      "text/plain": [
       "<AxesSubplot:>"
      ]
     },
     "execution_count": 33,
     "metadata": {},
     "output_type": "execute_result"
    },
    {
     "data": {
      "image/png": "[encoded data removed]",
      "text/plain": [
       "<Figure size 864x576 with 2 Axes>"
      ]
     },
     "metadata": {
      "needs_background": "light"
     },
     "output_type": "display_data"
    }
   ],
   "source": [
    "# Plot a heatmap of any missing data\n",
    "cols = df.columns[:30]\n",
    "colours = ['#000099', '#ffff00'] #clours -- yellow missing, blue not missing\n",
    "sns.heatmap(df[cols].isnull(), cmap=sns.color_palette(colours))"
   ]
  },
  {
   "cell_type": "code",
   "execution_count": 34,
   "id": "0ae37b5d",
   "metadata": {},
   "outputs": [
    {
     "name": "stdout",
     "output_type": "stream",
     "text": [
      "Unique Key - 0%\n",
      "Created Date - 0%\n",
      "Closed Date - 11%\n",
      "Agency - 0%\n",
      "Agency Name - 0%\n",
      "Complaint Type - 0%\n",
      "Descriptor - 0%\n",
      "Location Type - 0%\n",
      "Incident Zip - 0%\n",
      "Incident Address - 9%\n",
      "Street Name - 9%\n",
      "Cross Street 1 - 16%\n",
      "Cross Street 2 - 16%\n",
      "Intersection Street 1 - 91%\n",
      "Intersection Street 2 - 91%\n",
      "Address Type - 0%\n",
      "City - 0%\n",
      "Landmark - 100%\n",
      "Facility Type - 100%\n",
      "Status - 0%\n",
      "Due Date - 0%\n",
      "Resolution Action Updated Date - 0%\n",
      "Community Board - 0%\n",
      "Borough - 0%\n",
      "X Coordinate (State Plane) - 1%\n",
      "Y Coordinate (State Plane) - 1%\n",
      "Park Facility Name - 0%\n",
      "Park Borough - 0%\n",
      "School Name - 0%\n",
      "School Number - 0%\n",
      "School Region - 0%\n",
      "School Code - 0%\n",
      "School Phone Number - 0%\n",
      "School Address - 0%\n",
      "School City - 0%\n",
      "School State - 0%\n",
      "School Zip - 0%\n",
      "School Not Found - 1%\n",
      "School or Citywide Complaint - 100%\n",
      "Vehicle Type - 100%\n",
      "Taxi Company Borough - 100%\n",
      "Taxi Pick Up Location - 100%\n",
      "Bridge Highway Name - 100%\n",
      "Bridge Highway Direction - 100%\n",
      "Road Ramp - 100%\n",
      "Bridge Highway Segment - 100%\n",
      "Garage Lot Name - 100%\n",
      "Ferry Direction - 100%\n",
      "Ferry Terminal Name - 100%\n",
      "Latitude - 1%\n",
      "Longitude - 1%\n",
      "Location - 1%\n"
     ]
    }
   ],
   "source": [
    "# Try out a missing data percentage list! \n",
    "for col in df.columns:\n",
    "    pct_missing = np.mean(df[col].isnull())\n",
    "    print('{} - {}%'.format(col, round(pct_missing*100)))"
   ]
  },
  {
   "cell_type": "code",
   "execution_count": 35,
   "id": "51c62f02",
   "metadata": {},
   "outputs": [
    {
     "name": "stdout",
     "output_type": "stream",
     "text": [
      "created missing indicator for: Closed Date\n",
      "created missing indicator for: Location Type\n",
      "created missing indicator for: Incident Zip\n",
      "created missing indicator for: Incident Address\n",
      "created missing indicator for: Street Name\n",
      "created missing indicator for: Cross Street 1\n",
      "created missing indicator for: Cross Street 2\n",
      "created missing indicator for: Intersection Street 1\n",
      "created missing indicator for: Intersection Street 2\n",
      "created missing indicator for: Address Type\n",
      "created missing indicator for: City\n",
      "created missing indicator for: Landmark\n",
      "created missing indicator for: Facility Type\n",
      "created missing indicator for: Due Date\n",
      "created missing indicator for: Resolution Action Updated Date\n",
      "created missing indicator for: X Coordinate (State Plane)\n",
      "created missing indicator for: Y Coordinate (State Plane)\n",
      "created missing indicator for: School Not Found\n",
      "created missing indicator for: School or Citywide Complaint\n",
      "created missing indicator for: Vehicle Type\n",
      "created missing indicator for: Taxi Company Borough\n",
      "created missing indicator for: Taxi Pick Up Location\n",
      "created missing indicator for: Bridge Highway Name\n",
      "created missing indicator for: Bridge Highway Direction\n",
      "created missing indicator for: Road Ramp\n",
      "created missing indicator for: Bridge Highway Segment\n",
      "created missing indicator for: Garage Lot Name\n",
      "created missing indicator for: Ferry Direction\n",
      "created missing indicator for: Ferry Terminal Name\n",
      "created missing indicator for: Latitude\n",
      "created missing indicator for: Longitude\n",
      "created missing indicator for: Location\n"
     ]
    },
    {
     "data": {
      "text/plain": [
       "<AxesSubplot:xlabel='index'>"
      ]
     },
     "execution_count": 35,
     "metadata": {},
     "output_type": "execute_result"
    },
    {
     "data": {
      "image/png": "[encoded data removed]",
      "text/plain": [
       "<Figure size 864x576 with 1 Axes>"
      ]
     },
     "metadata": {
      "needs_background": "light"
     },
     "output_type": "display_data"
    }
   ],
   "source": [
    "# Plot a missing data histogram\n",
    "for col in df.columns:\n",
    "    missing = df[col].isnull()\n",
    "    num_missing = np.sum(missing)\n",
    "    \n",
    "    if num_missing > 0:\n",
    "        print('created missing indicator for: {}'.format(col))\n",
    "        df['{}_ismissing'.format(col)] = missing\n",
    "        \n",
    "        \n",
    "ismissing_cols = [col for col in df.columns if 'ismissing' in col]\n",
    "df['num_missing'] = df[ismissing_cols].sum(axis=1)\n",
    "\n",
    "df['num_missing'].value_counts().reset_index().sort_values(by='index').plot.bar(x='index', y='num_missing')"
   ]
  },
  {
   "cell_type": "markdown",
   "id": "5e791fbe",
   "metadata": {},
   "source": [
    "Now that you have tried all 3 techniques for detecting missing data, did you find any? Reading through the article, which solution do you think will help you clean the data set and handle the missing data? Try out your solution below!"
   ]
  },
  {
   "cell_type": "code",
   "execution_count": null,
   "id": "767d411f",
   "metadata": {},
   "outputs": [],
   "source": []
  },
  {
   "cell_type": "code",
   "execution_count": 36,
   "id": "53c2d34c",
   "metadata": {},
   "outputs": [
    {
     "data": {
      "text/plain": [
       "(101914, 68)"
      ]
     },
     "execution_count": 36,
     "metadata": {},
     "output_type": "execute_result"
    }
   ],
   "source": [
    "# Handle any missing data in your dataframe.\n",
    "# Drop columns of missing data\n",
    "cols_to_drop = ['Intersection Street 1', 'Intersection Street 2', 'Landmark', 'Facility Type', 'School or Citywide Complaint', 'Vehicle Type', 'Taxi Company Borough', 'Taxi Pick Up Location', 'Bridge Highway Name', 'Bridge Highway Direction', 'Road Ramp', 'Bridge Highway Segment', 'Garage Lot Name', 'Ferry Direction', 'Ferry Terminal Name', 'Cross Street 1', 'Cross Street 2']\n",
    "df_less_rat_stats = df.drop(cols_to_drop, axis=1)\n",
    "#df_less_rat_stats.columns\n",
    "df = df_less_rat_stats\n",
    "df.shape"
   ]
  },
  {
   "cell_type": "markdown",
   "id": "be2121df",
   "metadata": {},
   "source": [
    "## Irregular Data\n",
    "\n",
    "With missing data out of the way, turn your attention to any outliers. Just as we did for missing data, we first need to detect the outliers. The article outlines the top techniques for finding outliers in a dataset."
   ]
  },
  {
   "cell_type": "code",
   "execution_count": 37,
   "id": "3a4f2cff",
   "metadata": {},
   "outputs": [
    {
     "data": {
      "text/plain": [
       "array([[<AxesSubplot:title={'center':'Unique Key'}>,\n",
       "        <AxesSubplot:title={'center':'Incident Zip'}>,\n",
       "        <AxesSubplot:title={'center':'X Coordinate (State Plane)'}>],\n",
       "       [<AxesSubplot:title={'center':'Y Coordinate (State Plane)'}>,\n",
       "        <AxesSubplot:title={'center':'Latitude'}>,\n",
       "        <AxesSubplot:title={'center':'Longitude'}>],\n",
       "       [<AxesSubplot:title={'center':'num_missing'}>, <AxesSubplot:>,\n",
       "        <AxesSubplot:>]], dtype=object)"
      ]
     },
     "execution_count": 37,
     "metadata": {},
     "output_type": "execute_result"
    },
    {
     "data": {
      "image/png": "[encoded data removed]",
      "text/plain": [
       "<Figure size 864x576 with 9 Axes>"
      ]
     },
     "metadata": {
      "needs_background": "light"
     },
     "output_type": "display_data"
    }
   ],
   "source": [
    "# Plot a histogram to see if there are any outliers.\n",
    "df.hist(bins=100)\n",
    "#df['Unique Key'].plot(kind='hist')"
   ]
  },
  {
   "cell_type": "code",
   "execution_count": 38,
   "id": "ae9008bb",
   "metadata": {},
   "outputs": [
    {
     "data": {
      "text/html": [
       "<div>\n",
       "<style scoped>\n",
       "    .dataframe tbody tr th:only-of-type {\n",
       "        vertical-align: middle;\n",
       "    }\n",
       "\n",
       "    .dataframe tbody tr th {\n",
       "        vertical-align: top;\n",
       "    }\n",
       "\n",
       "    .dataframe thead th {\n",
       "        text-align: right;\n",
       "    }\n",
       "</style>\n",
       "<table border=\"1\" class=\"dataframe\">\n",
       "  <thead>\n",
       "    <tr style=\"text-align: right;\">\n",
       "      <th></th>\n",
       "      <th>Unique Key</th>\n",
       "      <th>Incident Zip</th>\n",
       "      <th>X Coordinate (State Plane)</th>\n",
       "      <th>Y Coordinate (State Plane)</th>\n",
       "      <th>Latitude</th>\n",
       "      <th>Longitude</th>\n",
       "      <th>num_missing</th>\n",
       "    </tr>\n",
       "  </thead>\n",
       "  <tbody>\n",
       "    <tr>\n",
       "      <th>count</th>\n",
       "      <td>1.019140e+05</td>\n",
       "      <td>101578.000000</td>\n",
       "      <td>1.012080e+05</td>\n",
       "      <td>101208.000000</td>\n",
       "      <td>101208.000000</td>\n",
       "      <td>101208.000000</td>\n",
       "      <td>101914.000000</td>\n",
       "    </tr>\n",
       "    <tr>\n",
       "      <th>mean</th>\n",
       "      <td>2.815864e+07</td>\n",
       "      <td>10728.680895</td>\n",
       "      <td>1.002473e+06</td>\n",
       "      <td>208639.988953</td>\n",
       "      <td>40.739304</td>\n",
       "      <td>-73.934206</td>\n",
       "      <td>15.491974</td>\n",
       "    </tr>\n",
       "    <tr>\n",
       "      <th>std</th>\n",
       "      <td>6.015376e+06</td>\n",
       "      <td>631.206648</td>\n",
       "      <td>1.958043e+04</td>\n",
       "      <td>29956.193531</td>\n",
       "      <td>0.082224</td>\n",
       "      <td>0.070617</td>\n",
       "      <td>0.996092</td>\n",
       "    </tr>\n",
       "    <tr>\n",
       "      <th>min</th>\n",
       "      <td>1.146439e+07</td>\n",
       "      <td>83.000000</td>\n",
       "      <td>9.134950e+05</td>\n",
       "      <td>121350.000000</td>\n",
       "      <td>40.499502</td>\n",
       "      <td>-74.254437</td>\n",
       "      <td>15.000000</td>\n",
       "    </tr>\n",
       "    <tr>\n",
       "      <th>25%</th>\n",
       "      <td>2.341452e+07</td>\n",
       "      <td>10086.250000</td>\n",
       "      <td>9.936100e+05</td>\n",
       "      <td>186934.000000</td>\n",
       "      <td>40.679740</td>\n",
       "      <td>-73.966216</td>\n",
       "      <td>15.000000</td>\n",
       "    </tr>\n",
       "    <tr>\n",
       "      <th>50%</th>\n",
       "      <td>2.883680e+07</td>\n",
       "      <td>10472.000000</td>\n",
       "      <td>1.001398e+06</td>\n",
       "      <td>203425.500000</td>\n",
       "      <td>40.725009</td>\n",
       "      <td>-73.938112</td>\n",
       "      <td>15.000000</td>\n",
       "    </tr>\n",
       "    <tr>\n",
       "      <th>75%</th>\n",
       "      <td>3.346014e+07</td>\n",
       "      <td>11222.000000</td>\n",
       "      <td>1.011951e+06</td>\n",
       "      <td>236364.000000</td>\n",
       "      <td>40.815428</td>\n",
       "      <td>-73.899963</td>\n",
       "      <td>16.000000</td>\n",
       "    </tr>\n",
       "    <tr>\n",
       "      <th>max</th>\n",
       "      <td>3.719700e+07</td>\n",
       "      <td>100354.000000</td>\n",
       "      <td>1.066922e+06</td>\n",
       "      <td>271876.000000</td>\n",
       "      <td>40.912869</td>\n",
       "      <td>-73.701632</td>\n",
       "      <td>27.000000</td>\n",
       "    </tr>\n",
       "  </tbody>\n",
       "</table>\n",
       "</div>"
      ],
      "text/plain": [
       "         Unique Key   Incident Zip  X Coordinate (State Plane)  \\\n",
       "count  1.019140e+05  101578.000000                1.012080e+05   \n",
       "mean   2.815864e+07   10728.680895                1.002473e+06   \n",
       "std    6.015376e+06     631.206648                1.958043e+04   \n",
       "min    1.146439e+07      83.000000                9.134950e+05   \n",
       "25%    2.341452e+07   10086.250000                9.936100e+05   \n",
       "50%    2.883680e+07   10472.000000                1.001398e+06   \n",
       "75%    3.346014e+07   11222.000000                1.011951e+06   \n",
       "max    3.719700e+07  100354.000000                1.066922e+06   \n",
       "\n",
       "       Y Coordinate (State Plane)       Latitude      Longitude    num_missing  \n",
       "count               101208.000000  101208.000000  101208.000000  101914.000000  \n",
       "mean                208639.988953      40.739304     -73.934206      15.491974  \n",
       "std                  29956.193531       0.082224       0.070617       0.996092  \n",
       "min                 121350.000000      40.499502     -74.254437      15.000000  \n",
       "25%                 186934.000000      40.679740     -73.966216      15.000000  \n",
       "50%                 203425.500000      40.725009     -73.938112      15.000000  \n",
       "75%                 236364.000000      40.815428     -73.899963      16.000000  \n",
       "max                 271876.000000      40.912869     -73.701632      27.000000  "
      ]
     },
     "execution_count": 38,
     "metadata": {},
     "output_type": "execute_result"
    }
   ],
   "source": [
    "# Use the describe() method\n",
    "df.describe()"
   ]
  },
  {
   "cell_type": "code",
   "execution_count": 39,
   "id": "4af44edf",
   "metadata": {},
   "outputs": [
    {
     "name": "stdout",
     "output_type": "stream",
     "text": [
      "created missing indicator for: Closed Date\n",
      "created missing indicator for: Location Type\n",
      "created missing indicator for: Incident Zip\n",
      "created missing indicator for: Incident Address\n",
      "created missing indicator for: Street Name\n",
      "created missing indicator for: Address Type\n",
      "created missing indicator for: City\n",
      "created missing indicator for: Due Date\n",
      "created missing indicator for: Resolution Action Updated Date\n",
      "created missing indicator for: X Coordinate (State Plane)\n",
      "created missing indicator for: Y Coordinate (State Plane)\n",
      "created missing indicator for: School Not Found\n",
      "created missing indicator for: Latitude\n",
      "created missing indicator for: Longitude\n",
      "created missing indicator for: Location\n"
     ]
    },
    {
     "data": {
      "text/plain": [
       "<AxesSubplot:xlabel='index'>"
      ]
     },
     "execution_count": 39,
     "metadata": {},
     "output_type": "execute_result"
    },
    {
     "data": {
      "image/png": "[encoded data removed]",
      "text/plain": [
       "<Figure size 864x576 with 1 Axes>"
      ]
     },
     "metadata": {
      "needs_background": "light"
     },
     "output_type": "display_data"
    }
   ],
   "source": [
    "# Plot a bar chart\n",
    "#df.plot.bar()\n",
    "for col in df.columns:\n",
    "    missing = df[col].isnull()\n",
    "    num_missing = np.sum(missing)\n",
    "    \n",
    "    if num_missing > 0:  \n",
    "        print('created missing indicator for: {}'.format(col))\n",
    "        df['{}_ismissing'.format(col)] = missing\n",
    "\n",
    "\n",
    "# then based on the indicator, plot the histogram of missing values\n",
    "ismissing_cols = [col for col in df.columns if 'ismissing' in col]\n",
    "df['num_missing'] = df[ismissing_cols].sum(axis=1)\n",
    "\n",
    "df['num_missing'].value_counts().reset_index().sort_values(by='index').plot.bar(x='index', y='num_missing')\n"
   ]
  },
  {
   "cell_type": "markdown",
   "id": "da8d6080",
   "metadata": {},
   "source": [
    "Which of the three techniques helped you find any outliers? Now that you have found outliers, what will you do to solve the problem?"
   ]
  },
  {
   "cell_type": "code",
   "execution_count": 42,
   "id": "3ee7d694",
   "metadata": {},
   "outputs": [
    {
     "data": {
      "text/plain": [
       "(101914, 68)"
      ]
     },
     "execution_count": 42,
     "metadata": {},
     "output_type": "execute_result"
    }
   ],
   "source": [
    "# Handle any outliers in your dataframe\n",
    "ind_missing = df[df['num_missing'] > 35].index\n",
    "df_less_missing_rows = df.drop(ind_missing, axis=0)\n",
    "df = df_less_missing_rows\n",
    "df.shape"
   ]
  },
  {
   "cell_type": "markdown",
   "id": "c802522d",
   "metadata": {},
   "source": [
    "## Unnecessary Data\n",
    "\n",
    "Unnecessary data could be duplicates, irrelevant, or any uninformative data. Dive into each type of unnecessary data to see if there is any in the data set. Make sure to make note of how you would handle each type of unnecessary data."
   ]
  },
  {
   "cell_type": "code",
   "execution_count": 43,
   "id": "8de40f50",
   "metadata": {},
   "outputs": [],
   "source": [
    "# Look for any irrelevant data in the dataframe. How will you handle it?"
   ]
  },
  {
   "cell_type": "code",
   "execution_count": 45,
   "id": "3c62df3d",
   "metadata": {
    "scrolled": false
   },
   "outputs": [
    {
     "name": "stdout",
     "output_type": "stream",
     "text": [
      "Agency: 100.00000%\n",
      "DOHMH    101914\n",
      "Name: Agency, dtype: int64\n",
      "\n",
      "Agency Name: 100.00000%\n",
      "Department of Health and Mental Hygiene    101914\n",
      "Name: Agency Name, dtype: int64\n",
      "\n",
      "Complaint Type: 100.00000%\n",
      "Rodent    101914\n",
      "Name: Complaint Type, dtype: int64\n",
      "\n",
      "Descriptor: 100.00000%\n",
      "Rat Sighting    101914\n",
      "Name: Descriptor, dtype: int64\n",
      "\n",
      "Park Facility Name: 100.00000%\n",
      "Unspecified    101914\n",
      "Name: Park Facility Name, dtype: int64\n",
      "\n",
      "School Name: 100.00000%\n",
      "Unspecified    101914\n",
      "Name: School Name, dtype: int64\n",
      "\n",
      "School Number: 100.00000%\n",
      "Unspecified    101914\n",
      "Name: School Number, dtype: int64\n",
      "\n",
      "School Region: 100.00000%\n",
      "Unspecified    101914\n",
      "Name: School Region, dtype: int64\n",
      "\n",
      "School Code: 100.00000%\n",
      "Unspecified    101914\n",
      "Name: School Code, dtype: int64\n",
      "\n",
      "School Phone Number: 100.00000%\n",
      "Unspecified    101914\n",
      "Name: School Phone Number, dtype: int64\n",
      "\n",
      "School Address: 100.00000%\n",
      "Unspecified    101914\n",
      "Name: School Address, dtype: int64\n",
      "\n",
      "School City: 100.00000%\n",
      "Unspecified    101914\n",
      "Name: School City, dtype: int64\n",
      "\n",
      "School State: 100.00000%\n",
      "Unspecified    101914\n",
      "Name: School State, dtype: int64\n",
      "\n",
      "School Zip: 100.00000%\n",
      "Unspecified    101914\n",
      "Name: School Zip, dtype: int64\n",
      "\n",
      "School Not Found: 99.10022%\n",
      "N      100997\n",
      "NaN       917\n",
      "Name: School Not Found, dtype: int64\n",
      "\n",
      "Location Type_ismissing: 99.99411%\n",
      "False    101908\n",
      "True          6\n",
      "Name: Location Type_ismissing, dtype: int64\n",
      "\n",
      "Incident Zip_ismissing: 99.67031%\n",
      "False    101578\n",
      "True        336\n",
      "Name: Incident Zip_ismissing, dtype: int64\n",
      "\n",
      "Address Type_ismissing: 99.66050%\n",
      "False    101568\n",
      "True        346\n",
      "Name: Address Type_ismissing, dtype: int64\n",
      "\n",
      "City_ismissing: 99.66442%\n",
      "False    101572\n",
      "True        342\n",
      "Name: City_ismissing, dtype: int64\n",
      "\n",
      "Landmark_ismissing: 99.96566%\n",
      "True     101879\n",
      "False        35\n",
      "Name: Landmark_ismissing, dtype: int64\n",
      "\n",
      "Facility Type_ismissing: 100.00000%\n",
      "True    101914\n",
      "Name: Facility Type_ismissing, dtype: int64\n",
      "\n",
      "Due Date_ismissing: 99.88520%\n",
      "False    101797\n",
      "True        117\n",
      "Name: Due Date_ismissing, dtype: int64\n",
      "\n",
      "Resolution Action Updated Date_ismissing: 99.99706%\n",
      "False    101911\n",
      "True          3\n",
      "Name: Resolution Action Updated Date_ismissing, dtype: int64\n",
      "\n",
      "X Coordinate (State Plane)_ismissing: 99.30726%\n",
      "False    101208\n",
      "True        706\n",
      "Name: X Coordinate (State Plane)_ismissing, dtype: int64\n",
      "\n",
      "Y Coordinate (State Plane)_ismissing: 99.30726%\n",
      "False    101208\n",
      "True        706\n",
      "Name: Y Coordinate (State Plane)_ismissing, dtype: int64\n",
      "\n",
      "School Not Found_ismissing: 99.10022%\n",
      "False    100997\n",
      "True        917\n",
      "Name: School Not Found_ismissing, dtype: int64\n",
      "\n",
      "School or Citywide Complaint_ismissing: 100.00000%\n",
      "True    101914\n",
      "Name: School or Citywide Complaint_ismissing, dtype: int64\n",
      "\n",
      "Vehicle Type_ismissing: 100.00000%\n",
      "True    101914\n",
      "Name: Vehicle Type_ismissing, dtype: int64\n",
      "\n",
      "Taxi Company Borough_ismissing: 100.00000%\n",
      "True    101914\n",
      "Name: Taxi Company Borough_ismissing, dtype: int64\n",
      "\n",
      "Taxi Pick Up Location_ismissing: 100.00000%\n",
      "True    101914\n",
      "Name: Taxi Pick Up Location_ismissing, dtype: int64\n",
      "\n",
      "Bridge Highway Name_ismissing: 100.00000%\n",
      "True    101914\n",
      "Name: Bridge Highway Name_ismissing, dtype: int64\n",
      "\n",
      "Bridge Highway Direction_ismissing: 100.00000%\n",
      "True    101914\n",
      "Name: Bridge Highway Direction_ismissing, dtype: int64\n",
      "\n",
      "Road Ramp_ismissing: 100.00000%\n",
      "True    101914\n",
      "Name: Road Ramp_ismissing, dtype: int64\n",
      "\n",
      "Bridge Highway Segment_ismissing: 100.00000%\n",
      "True    101914\n",
      "Name: Bridge Highway Segment_ismissing, dtype: int64\n",
      "\n",
      "Garage Lot Name_ismissing: 100.00000%\n",
      "True    101914\n",
      "Name: Garage Lot Name_ismissing, dtype: int64\n",
      "\n",
      "Ferry Direction_ismissing: 100.00000%\n",
      "True    101914\n",
      "Name: Ferry Direction_ismissing, dtype: int64\n",
      "\n",
      "Ferry Terminal Name_ismissing: 100.00000%\n",
      "True    101914\n",
      "Name: Ferry Terminal Name_ismissing, dtype: int64\n",
      "\n",
      "Latitude_ismissing: 99.30726%\n",
      "False    101208\n",
      "True        706\n",
      "Name: Latitude_ismissing, dtype: int64\n",
      "\n",
      "Longitude_ismissing: 99.30726%\n",
      "False    101208\n",
      "True        706\n",
      "Name: Longitude_ismissing, dtype: int64\n",
      "\n",
      "Location_ismissing: 99.30726%\n",
      "False    101208\n",
      "True        706\n",
      "Name: Location_ismissing, dtype: int64\n",
      "\n"
     ]
    }
   ],
   "source": [
    "num_rows = len(df.index)\n",
    "low_information_cols = [] #\n",
    "\n",
    "for col in df.columns:\n",
    "    cnts = df[col].value_counts(dropna=False)\n",
    "    top_pct = (cnts/num_rows).iloc[0]\n",
    "    \n",
    "    if top_pct > 0.95:\n",
    "        low_information_cols.append(col)\n",
    "        print('{0}: {1:.5f}%'.format(col, top_pct*100))\n",
    "        print(cnts)\n",
    "        print()"
   ]
  },
  {
   "cell_type": "code",
   "execution_count": null,
   "id": "25401f91",
   "metadata": {},
   "outputs": [],
   "source": []
  },
  {
   "cell_type": "code",
   "execution_count": 46,
   "id": "ccfe8396",
   "metadata": {},
   "outputs": [],
   "source": [
    "df_dropna = df.dropna()"
   ]
  },
  {
   "cell_type": "code",
   "execution_count": 47,
   "id": "888b49f1",
   "metadata": {},
   "outputs": [
    {
     "ename": "KeyError",
     "evalue": "\"['id'] not found in axis\"",
     "output_type": "error",
     "traceback": [
      "\u001b[1;31m---------------------------------------------------------------------------\u001b[0m",
      "\u001b[1;31mKeyError\u001b[0m                                  Traceback (most recent call last)",
      "Input \u001b[1;32mIn [47]\u001b[0m, in \u001b[0;36m<cell line: 3>\u001b[1;34m()\u001b[0m\n\u001b[0;32m      1\u001b[0m \u001b[38;5;66;03m# Look for duplicates. How will you handle any duplicates?\u001b[39;00m\n\u001b[0;32m      2\u001b[0m \u001b[38;5;66;03m# we know that column 'id' is unique, but what if we drop it?\u001b[39;00m\n\u001b[1;32m----> 3\u001b[0m df_dedupped \u001b[38;5;241m=\u001b[39m \u001b[43mdf\u001b[49m\u001b[38;5;241;43m.\u001b[39;49m\u001b[43mdrop\u001b[49m\u001b[43m(\u001b[49m\u001b[38;5;124;43m'\u001b[39;49m\u001b[38;5;124;43mid\u001b[39;49m\u001b[38;5;124;43m'\u001b[39;49m\u001b[43m,\u001b[49m\u001b[43m \u001b[49m\u001b[43maxis\u001b[49m\u001b[38;5;241;43m=\u001b[39;49m\u001b[38;5;241;43m1\u001b[39;49m\u001b[43m)\u001b[49m\u001b[38;5;241m.\u001b[39mdrop_duplicates()\n\u001b[0;32m      5\u001b[0m \u001b[38;5;66;03m# there were duplicate rows\u001b[39;00m\n\u001b[0;32m      6\u001b[0m \u001b[38;5;28mprint\u001b[39m(df\u001b[38;5;241m.\u001b[39mshape)\n",
      "File \u001b[1;32m~\\anaconda3\\lib\\site-packages\\pandas\\util\\_decorators.py:311\u001b[0m, in \u001b[0;36mdeprecate_nonkeyword_arguments.<locals>.decorate.<locals>.wrapper\u001b[1;34m(*args, **kwargs)\u001b[0m\n\u001b[0;32m    305\u001b[0m \u001b[38;5;28;01mif\u001b[39;00m \u001b[38;5;28mlen\u001b[39m(args) \u001b[38;5;241m>\u001b[39m num_allow_args:\n\u001b[0;32m    306\u001b[0m     warnings\u001b[38;5;241m.\u001b[39mwarn(\n\u001b[0;32m    307\u001b[0m         msg\u001b[38;5;241m.\u001b[39mformat(arguments\u001b[38;5;241m=\u001b[39marguments),\n\u001b[0;32m    308\u001b[0m         \u001b[38;5;167;01mFutureWarning\u001b[39;00m,\n\u001b[0;32m    309\u001b[0m         stacklevel\u001b[38;5;241m=\u001b[39mstacklevel,\n\u001b[0;32m    310\u001b[0m     )\n\u001b[1;32m--> 311\u001b[0m \u001b[38;5;28;01mreturn\u001b[39;00m func(\u001b[38;5;241m*\u001b[39margs, \u001b[38;5;241m*\u001b[39m\u001b[38;5;241m*\u001b[39mkwargs)\n",
      "File \u001b[1;32m~\\anaconda3\\lib\\site-packages\\pandas\\core\\frame.py:4954\u001b[0m, in \u001b[0;36mDataFrame.drop\u001b[1;34m(self, labels, axis, index, columns, level, inplace, errors)\u001b[0m\n\u001b[0;32m   4806\u001b[0m \u001b[38;5;129m@deprecate_nonkeyword_arguments\u001b[39m(version\u001b[38;5;241m=\u001b[39m\u001b[38;5;28;01mNone\u001b[39;00m, allowed_args\u001b[38;5;241m=\u001b[39m[\u001b[38;5;124m\"\u001b[39m\u001b[38;5;124mself\u001b[39m\u001b[38;5;124m\"\u001b[39m, \u001b[38;5;124m\"\u001b[39m\u001b[38;5;124mlabels\u001b[39m\u001b[38;5;124m\"\u001b[39m])\n\u001b[0;32m   4807\u001b[0m \u001b[38;5;28;01mdef\u001b[39;00m \u001b[38;5;21mdrop\u001b[39m(\n\u001b[0;32m   4808\u001b[0m     \u001b[38;5;28mself\u001b[39m,\n\u001b[1;32m   (...)\u001b[0m\n\u001b[0;32m   4815\u001b[0m     errors: \u001b[38;5;28mstr\u001b[39m \u001b[38;5;241m=\u001b[39m \u001b[38;5;124m\"\u001b[39m\u001b[38;5;124mraise\u001b[39m\u001b[38;5;124m\"\u001b[39m,\n\u001b[0;32m   4816\u001b[0m ):\n\u001b[0;32m   4817\u001b[0m     \u001b[38;5;124;03m\"\"\"\u001b[39;00m\n\u001b[0;32m   4818\u001b[0m \u001b[38;5;124;03m    Drop specified labels from rows or columns.\u001b[39;00m\n\u001b[0;32m   4819\u001b[0m \n\u001b[1;32m   (...)\u001b[0m\n\u001b[0;32m   4952\u001b[0m \u001b[38;5;124;03m            weight  1.0     0.8\u001b[39;00m\n\u001b[0;32m   4953\u001b[0m \u001b[38;5;124;03m    \"\"\"\u001b[39;00m\n\u001b[1;32m-> 4954\u001b[0m     \u001b[38;5;28;01mreturn\u001b[39;00m \u001b[38;5;28;43msuper\u001b[39;49m\u001b[43m(\u001b[49m\u001b[43m)\u001b[49m\u001b[38;5;241;43m.\u001b[39;49m\u001b[43mdrop\u001b[49m\u001b[43m(\u001b[49m\n\u001b[0;32m   4955\u001b[0m \u001b[43m        \u001b[49m\u001b[43mlabels\u001b[49m\u001b[38;5;241;43m=\u001b[39;49m\u001b[43mlabels\u001b[49m\u001b[43m,\u001b[49m\n\u001b[0;32m   4956\u001b[0m \u001b[43m        \u001b[49m\u001b[43maxis\u001b[49m\u001b[38;5;241;43m=\u001b[39;49m\u001b[43maxis\u001b[49m\u001b[43m,\u001b[49m\n\u001b[0;32m   4957\u001b[0m \u001b[43m        \u001b[49m\u001b[43mindex\u001b[49m\u001b[38;5;241;43m=\u001b[39;49m\u001b[43mindex\u001b[49m\u001b[43m,\u001b[49m\n\u001b[0;32m   4958\u001b[0m \u001b[43m        \u001b[49m\u001b[43mcolumns\u001b[49m\u001b[38;5;241;43m=\u001b[39;49m\u001b[43mcolumns\u001b[49m\u001b[43m,\u001b[49m\n\u001b[0;32m   4959\u001b[0m \u001b[43m        \u001b[49m\u001b[43mlevel\u001b[49m\u001b[38;5;241;43m=\u001b[39;49m\u001b[43mlevel\u001b[49m\u001b[43m,\u001b[49m\n\u001b[0;32m   4960\u001b[0m \u001b[43m        \u001b[49m\u001b[43minplace\u001b[49m\u001b[38;5;241;43m=\u001b[39;49m\u001b[43minplace\u001b[49m\u001b[43m,\u001b[49m\n\u001b[0;32m   4961\u001b[0m \u001b[43m        \u001b[49m\u001b[43merrors\u001b[49m\u001b[38;5;241;43m=\u001b[39;49m\u001b[43merrors\u001b[49m\u001b[43m,\u001b[49m\n\u001b[0;32m   4962\u001b[0m \u001b[43m    \u001b[49m\u001b[43m)\u001b[49m\n",
      "File \u001b[1;32m~\\anaconda3\\lib\\site-packages\\pandas\\core\\generic.py:4267\u001b[0m, in \u001b[0;36mNDFrame.drop\u001b[1;34m(self, labels, axis, index, columns, level, inplace, errors)\u001b[0m\n\u001b[0;32m   4265\u001b[0m \u001b[38;5;28;01mfor\u001b[39;00m axis, labels \u001b[38;5;129;01min\u001b[39;00m axes\u001b[38;5;241m.\u001b[39mitems():\n\u001b[0;32m   4266\u001b[0m     \u001b[38;5;28;01mif\u001b[39;00m labels \u001b[38;5;129;01mis\u001b[39;00m \u001b[38;5;129;01mnot\u001b[39;00m \u001b[38;5;28;01mNone\u001b[39;00m:\n\u001b[1;32m-> 4267\u001b[0m         obj \u001b[38;5;241m=\u001b[39m \u001b[43mobj\u001b[49m\u001b[38;5;241;43m.\u001b[39;49m\u001b[43m_drop_axis\u001b[49m\u001b[43m(\u001b[49m\u001b[43mlabels\u001b[49m\u001b[43m,\u001b[49m\u001b[43m \u001b[49m\u001b[43maxis\u001b[49m\u001b[43m,\u001b[49m\u001b[43m \u001b[49m\u001b[43mlevel\u001b[49m\u001b[38;5;241;43m=\u001b[39;49m\u001b[43mlevel\u001b[49m\u001b[43m,\u001b[49m\u001b[43m \u001b[49m\u001b[43merrors\u001b[49m\u001b[38;5;241;43m=\u001b[39;49m\u001b[43merrors\u001b[49m\u001b[43m)\u001b[49m\n\u001b[0;32m   4269\u001b[0m \u001b[38;5;28;01mif\u001b[39;00m inplace:\n\u001b[0;32m   4270\u001b[0m     \u001b[38;5;28mself\u001b[39m\u001b[38;5;241m.\u001b[39m_update_inplace(obj)\n",
      "File \u001b[1;32m~\\anaconda3\\lib\\site-packages\\pandas\\core\\generic.py:4311\u001b[0m, in \u001b[0;36mNDFrame._drop_axis\u001b[1;34m(self, labels, axis, level, errors, consolidate, only_slice)\u001b[0m\n\u001b[0;32m   4309\u001b[0m         new_axis \u001b[38;5;241m=\u001b[39m axis\u001b[38;5;241m.\u001b[39mdrop(labels, level\u001b[38;5;241m=\u001b[39mlevel, errors\u001b[38;5;241m=\u001b[39merrors)\n\u001b[0;32m   4310\u001b[0m     \u001b[38;5;28;01melse\u001b[39;00m:\n\u001b[1;32m-> 4311\u001b[0m         new_axis \u001b[38;5;241m=\u001b[39m \u001b[43maxis\u001b[49m\u001b[38;5;241;43m.\u001b[39;49m\u001b[43mdrop\u001b[49m\u001b[43m(\u001b[49m\u001b[43mlabels\u001b[49m\u001b[43m,\u001b[49m\u001b[43m \u001b[49m\u001b[43merrors\u001b[49m\u001b[38;5;241;43m=\u001b[39;49m\u001b[43merrors\u001b[49m\u001b[43m)\u001b[49m\n\u001b[0;32m   4312\u001b[0m     indexer \u001b[38;5;241m=\u001b[39m axis\u001b[38;5;241m.\u001b[39mget_indexer(new_axis)\n\u001b[0;32m   4314\u001b[0m \u001b[38;5;66;03m# Case for non-unique axis\u001b[39;00m\n\u001b[0;32m   4315\u001b[0m \u001b[38;5;28;01melse\u001b[39;00m:\n",
      "File \u001b[1;32m~\\anaconda3\\lib\\site-packages\\pandas\\core\\indexes\\base.py:6644\u001b[0m, in \u001b[0;36mIndex.drop\u001b[1;34m(self, labels, errors)\u001b[0m\n\u001b[0;32m   6642\u001b[0m \u001b[38;5;28;01mif\u001b[39;00m mask\u001b[38;5;241m.\u001b[39many():\n\u001b[0;32m   6643\u001b[0m     \u001b[38;5;28;01mif\u001b[39;00m errors \u001b[38;5;241m!=\u001b[39m \u001b[38;5;124m\"\u001b[39m\u001b[38;5;124mignore\u001b[39m\u001b[38;5;124m\"\u001b[39m:\n\u001b[1;32m-> 6644\u001b[0m         \u001b[38;5;28;01mraise\u001b[39;00m \u001b[38;5;167;01mKeyError\u001b[39;00m(\u001b[38;5;124mf\u001b[39m\u001b[38;5;124m\"\u001b[39m\u001b[38;5;132;01m{\u001b[39;00m\u001b[38;5;28mlist\u001b[39m(labels[mask])\u001b[38;5;132;01m}\u001b[39;00m\u001b[38;5;124m not found in axis\u001b[39m\u001b[38;5;124m\"\u001b[39m)\n\u001b[0;32m   6645\u001b[0m     indexer \u001b[38;5;241m=\u001b[39m indexer[\u001b[38;5;241m~\u001b[39mmask]\n\u001b[0;32m   6646\u001b[0m \u001b[38;5;28;01mreturn\u001b[39;00m \u001b[38;5;28mself\u001b[39m\u001b[38;5;241m.\u001b[39mdelete(indexer)\n",
      "\u001b[1;31mKeyError\u001b[0m: \"['id'] not found in axis\""
     ]
    }
   ],
   "source": [
    "# Look for duplicates. How will you handle any duplicates?\n",
    "# we know that column 'id' is unique, but what if we drop it?\n",
    "df_dedupped = df.drop('id', axis=1).drop_duplicates()\n",
    "\n",
    "# there were duplicate rows\n",
    "print(df.shape)\n",
    "print(df_dedupped.shape)"
   ]
  },
  {
   "cell_type": "code",
   "execution_count": null,
   "id": "cbd6ee14",
   "metadata": {},
   "outputs": [],
   "source": [
    "# Think about what data in the dataframe may be uninformative. Make note here of what situations may render data uninformative and how you would handle it?"
   ]
  },
  {
   "cell_type": "markdown",
   "id": "bdcad93a",
   "metadata": {},
   "source": [
    "## Inconsistent Data\n",
    "\n",
    "Inconsistent data is anything that messes with your model. This is likely due to inconsistent formatting and can be addressed by re-formatting all values in a column or row."
   ]
  },
  {
   "cell_type": "code",
   "execution_count": null,
   "id": "4fc6bbb7",
   "metadata": {},
   "outputs": [],
   "source": [
    "# Try to convert all the strings in a column to lower or upper case. "
   ]
  }
 ],
 "metadata": {
  "kernelspec": {
   "display_name": "Python 3 (ipykernel)",
   "language": "python",
   "name": "python3"
  },
  "language_info": {
   "codemirror_mode": {
    "name": "ipython",
    "version": 3
   },
   "file_extension": ".py",
   "mimetype": "text/x-python",
   "name": "python",
   "nbconvert_exporter": "python",
   "pygments_lexer": "ipython3",
   "version": "3.9.12"
  }
 },
 "nbformat": 4,
 "nbformat_minor": 5
}
